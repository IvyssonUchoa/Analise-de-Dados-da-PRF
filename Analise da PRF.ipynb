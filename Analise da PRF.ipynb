{
 "cells": [
  {
   "cell_type": "markdown",
   "metadata": {},
   "source": [
    "<div class=\"alert alert-block alert-info\">\n",
    "<center>ESTATÍSTICA  APLICADA  </center>\n",
    "<center>PROJETO I</center>\n",
    "<center>ALUNO: IVYSSON FERNANDES DE QUEIROZ UCHÔA</center>\n",
    "</div>"
   ]
  },
  {
   "cell_type": "code",
   "execution_count": 1,
   "metadata": {},
   "outputs": [],
   "source": [
    "import pandas as pd"
   ]
  },
  {
   "cell_type": "markdown",
   "metadata": {},
   "source": [
    "### 1ª Tarefa)"
   ]
  },
  {
   "cell_type": "markdown",
   "metadata": {},
   "source": [
    "* Para obter acesso aos dados de acidentes de cada ano presentes nos arquivos disponibilizados pela PRF foi feito:\n",
    "    * O download e descompactação dos arquivos em uma pasta própria, uma vez que não foi possível acessar os dados diretamente do site;\n",
    "    * Usando da função pd.read_csv  foi realizada a importação dos dados de cada ano de desejado (2018, 2019, 2020) para um respectivo Data Frame ao fornecer a localização dos arquivos csv dentro do computador."
   ]
  },
  {
   "cell_type": "code",
   "execution_count": 3,
   "metadata": {},
   "outputs": [],
   "source": [
    "datatran2018 = pd.read_csv('datatran2018.csv', sep=\";\", encoding='ANSI')\n",
    "datatran2019 = pd.read_csv('datatran2019.csv', sep=\";\", encoding='ANSI')\n",
    "datatran2020 = pd.read_csv('datatran2020.csv', sep=\";\", encoding='ANSI')"
   ]
  },
  {
   "cell_type": "markdown",
   "metadata": {},
   "source": [
    "* Para que os dados dos Dfs possam ser lidos sem haver erros foi feito:\n",
    "    * O uso do parâmetro sep=, definindo para os Data Frames qual o tipo de delimitador, neste caso o \";\", está sendo usado para separar as colunas do arquivo csv, dessa forma evitando erro de leitura pelo pandas;\n",
    "    * E o uso do parâmetro encoding=, especificando como os dados sobre os acidentes estão codificados, impedindo erros com a fonte \"ANSI\", usada pelos arquivos csv."
   ]
  },
  {
   "cell_type": "code",
   "execution_count": 4,
   "metadata": {},
   "outputs": [
    {
     "data": {
      "text/html": [
       "<div>\n",
       "<style scoped>\n",
       "    .dataframe tbody tr th:only-of-type {\n",
       "        vertical-align: middle;\n",
       "    }\n",
       "\n",
       "    .dataframe tbody tr th {\n",
       "        vertical-align: top;\n",
       "    }\n",
       "\n",
       "    .dataframe thead th {\n",
       "        text-align: right;\n",
       "    }\n",
       "</style>\n",
       "<table border=\"1\" class=\"dataframe\">\n",
       "  <thead>\n",
       "    <tr style=\"text-align: right;\">\n",
       "      <th></th>\n",
       "      <th>id</th>\n",
       "      <th>data_inversa</th>\n",
       "      <th>dia_semana</th>\n",
       "      <th>horario</th>\n",
       "      <th>uf</th>\n",
       "      <th>br</th>\n",
       "      <th>km</th>\n",
       "      <th>municipio</th>\n",
       "      <th>causa_acidente</th>\n",
       "      <th>tipo_acidente</th>\n",
       "      <th>...</th>\n",
       "      <th>feridos_graves</th>\n",
       "      <th>ilesos</th>\n",
       "      <th>ignorados</th>\n",
       "      <th>feridos</th>\n",
       "      <th>veiculos</th>\n",
       "      <th>latitude</th>\n",
       "      <th>longitude</th>\n",
       "      <th>regional</th>\n",
       "      <th>delegacia</th>\n",
       "      <th>uop</th>\n",
       "    </tr>\n",
       "  </thead>\n",
       "  <tbody>\n",
       "    <tr>\n",
       "      <th>0</th>\n",
       "      <td>99973.0</td>\n",
       "      <td>2018-01-01</td>\n",
       "      <td>segunda-feira</td>\n",
       "      <td>00:20:00</td>\n",
       "      <td>RJ</td>\n",
       "      <td>116.0</td>\n",
       "      <td>303,5</td>\n",
       "      <td>RESENDE</td>\n",
       "      <td>Condutor Dormindo</td>\n",
       "      <td>Saída de leito carroçável</td>\n",
       "      <td>...</td>\n",
       "      <td>4</td>\n",
       "      <td>1</td>\n",
       "      <td>0</td>\n",
       "      <td>4</td>\n",
       "      <td>1</td>\n",
       "      <td>-22,46937</td>\n",
       "      <td>-44,44705</td>\n",
       "      <td>SR-RJ</td>\n",
       "      <td>DEL5/7</td>\n",
       "      <td>UOP03/RJ</td>\n",
       "    </tr>\n",
       "    <tr>\n",
       "      <th>1</th>\n",
       "      <td>99976.0</td>\n",
       "      <td>2018-01-01</td>\n",
       "      <td>segunda-feira</td>\n",
       "      <td>00:40:00</td>\n",
       "      <td>SC</td>\n",
       "      <td>282.0</td>\n",
       "      <td>0,4</td>\n",
       "      <td>FLORIANOPOLIS</td>\n",
       "      <td>Não guardar distância de segurança</td>\n",
       "      <td>Colisão traseira</td>\n",
       "      <td>...</td>\n",
       "      <td>2</td>\n",
       "      <td>1</td>\n",
       "      <td>0</td>\n",
       "      <td>2</td>\n",
       "      <td>2</td>\n",
       "      <td>-27,59971687</td>\n",
       "      <td>-48,57565694</td>\n",
       "      <td>SR-SC</td>\n",
       "      <td>DEL8/1</td>\n",
       "      <td>UOP01/SC</td>\n",
       "    </tr>\n",
       "    <tr>\n",
       "      <th>2</th>\n",
       "      <td>99977.0</td>\n",
       "      <td>2018-01-01</td>\n",
       "      <td>segunda-feira</td>\n",
       "      <td>00:30:00</td>\n",
       "      <td>RJ</td>\n",
       "      <td>493.0</td>\n",
       "      <td>1</td>\n",
       "      <td>ITABORAI</td>\n",
       "      <td>Ultrapassagem Indevida</td>\n",
       "      <td>Colisão frontal</td>\n",
       "      <td>...</td>\n",
       "      <td>0</td>\n",
       "      <td>3</td>\n",
       "      <td>1</td>\n",
       "      <td>1</td>\n",
       "      <td>3</td>\n",
       "      <td>-22,763901</td>\n",
       "      <td>-42,927532</td>\n",
       "      <td>SR-RJ</td>\n",
       "      <td>DEL5/4</td>\n",
       "      <td>UOP02/RJ</td>\n",
       "    </tr>\n",
       "    <tr>\n",
       "      <th>3</th>\n",
       "      <td>99981.0</td>\n",
       "      <td>2018-01-01</td>\n",
       "      <td>segunda-feira</td>\n",
       "      <td>01:15:00</td>\n",
       "      <td>RS</td>\n",
       "      <td>386.0</td>\n",
       "      <td>134</td>\n",
       "      <td>SARANDI</td>\n",
       "      <td>Ingestão de Álcool</td>\n",
       "      <td>Colisão transversal</td>\n",
       "      <td>...</td>\n",
       "      <td>0</td>\n",
       "      <td>2</td>\n",
       "      <td>0</td>\n",
       "      <td>0</td>\n",
       "      <td>2</td>\n",
       "      <td>-27,953636</td>\n",
       "      <td>-52,916374</td>\n",
       "      <td>SR-RS</td>\n",
       "      <td>DEL9/14</td>\n",
       "      <td>UOP01/RS</td>\n",
       "    </tr>\n",
       "    <tr>\n",
       "      <th>4</th>\n",
       "      <td>99982.0</td>\n",
       "      <td>2018-01-01</td>\n",
       "      <td>segunda-feira</td>\n",
       "      <td>00:20:00</td>\n",
       "      <td>RS</td>\n",
       "      <td>293.0</td>\n",
       "      <td>151,7</td>\n",
       "      <td>CANDIOTA</td>\n",
       "      <td>Falta de Atenção à Condução</td>\n",
       "      <td>Saída de leito carroçável</td>\n",
       "      <td>...</td>\n",
       "      <td>1</td>\n",
       "      <td>0</td>\n",
       "      <td>0</td>\n",
       "      <td>1</td>\n",
       "      <td>1</td>\n",
       "      <td>-31,395214</td>\n",
       "      <td>-53,78391174</td>\n",
       "      <td>SR-RS</td>\n",
       "      <td>DEL9/11</td>\n",
       "      <td>UOP03/RS</td>\n",
       "    </tr>\n",
       "    <tr>\n",
       "      <th>...</th>\n",
       "      <td>...</td>\n",
       "      <td>...</td>\n",
       "      <td>...</td>\n",
       "      <td>...</td>\n",
       "      <td>...</td>\n",
       "      <td>...</td>\n",
       "      <td>...</td>\n",
       "      <td>...</td>\n",
       "      <td>...</td>\n",
       "      <td>...</td>\n",
       "      <td>...</td>\n",
       "      <td>...</td>\n",
       "      <td>...</td>\n",
       "      <td>...</td>\n",
       "      <td>...</td>\n",
       "      <td>...</td>\n",
       "      <td>...</td>\n",
       "      <td>...</td>\n",
       "      <td>...</td>\n",
       "      <td>...</td>\n",
       "      <td>...</td>\n",
       "    </tr>\n",
       "    <tr>\n",
       "      <th>200284</th>\n",
       "      <td>364615.0</td>\n",
       "      <td>2020-03-20</td>\n",
       "      <td>sexta-feira</td>\n",
       "      <td>09:00:00</td>\n",
       "      <td>RN</td>\n",
       "      <td>304.0</td>\n",
       "      <td>171,8</td>\n",
       "      <td>ANGICOS</td>\n",
       "      <td>Falta de Atenção à Condução</td>\n",
       "      <td>Colisão traseira</td>\n",
       "      <td>...</td>\n",
       "      <td>1</td>\n",
       "      <td>2</td>\n",
       "      <td>0</td>\n",
       "      <td>2</td>\n",
       "      <td>4</td>\n",
       "      <td>-5,68711053</td>\n",
       "      <td>-36,419458</td>\n",
       "      <td>SR-RN</td>\n",
       "      <td>UOP03</td>\n",
       "      <td>DEL01</td>\n",
       "    </tr>\n",
       "    <tr>\n",
       "      <th>200285</th>\n",
       "      <td>364810.0</td>\n",
       "      <td>2020-09-12</td>\n",
       "      <td>sábado</td>\n",
       "      <td>23:50:00</td>\n",
       "      <td>BA</td>\n",
       "      <td>116.0</td>\n",
       "      <td>11,5</td>\n",
       "      <td>VITORIA DA CONQUISTA</td>\n",
       "      <td>Ingestão de Álcool</td>\n",
       "      <td>Colisão lateral</td>\n",
       "      <td>...</td>\n",
       "      <td>0</td>\n",
       "      <td>2</td>\n",
       "      <td>0</td>\n",
       "      <td>1</td>\n",
       "      <td>2</td>\n",
       "      <td>-14,87308214</td>\n",
       "      <td>-40,87141514</td>\n",
       "      <td>SR-BA</td>\n",
       "      <td>UOP01</td>\n",
       "      <td>DEL08</td>\n",
       "    </tr>\n",
       "    <tr>\n",
       "      <th>200286</th>\n",
       "      <td>364817.0</td>\n",
       "      <td>2020-10-30</td>\n",
       "      <td>sexta-feira</td>\n",
       "      <td>10:30:00</td>\n",
       "      <td>BA</td>\n",
       "      <td>116.0</td>\n",
       "      <td>14,3</td>\n",
       "      <td>VITORIA DA CONQUISTA</td>\n",
       "      <td>Falta de Atenção à Condução</td>\n",
       "      <td>Colisão lateral</td>\n",
       "      <td>...</td>\n",
       "      <td>0</td>\n",
       "      <td>2</td>\n",
       "      <td>0</td>\n",
       "      <td>2</td>\n",
       "      <td>2</td>\n",
       "      <td>-14,89597653</td>\n",
       "      <td>-40,86098671</td>\n",
       "      <td>SR-BA</td>\n",
       "      <td>UOP01</td>\n",
       "      <td>DEL08</td>\n",
       "    </tr>\n",
       "    <tr>\n",
       "      <th>200287</th>\n",
       "      <td>364835.0</td>\n",
       "      <td>2020-09-20</td>\n",
       "      <td>domingo</td>\n",
       "      <td>23:00:00</td>\n",
       "      <td>BA</td>\n",
       "      <td>116.0</td>\n",
       "      <td>8</td>\n",
       "      <td>VITORIA DA CONQUISTA</td>\n",
       "      <td>Velocidade Incompatível</td>\n",
       "      <td>Queda de ocupante de veículo</td>\n",
       "      <td>...</td>\n",
       "      <td>0</td>\n",
       "      <td>0</td>\n",
       "      <td>0</td>\n",
       "      <td>1</td>\n",
       "      <td>1</td>\n",
       "      <td>-14,84732305</td>\n",
       "      <td>-40,88634968</td>\n",
       "      <td>SR-BA</td>\n",
       "      <td>UOP01</td>\n",
       "      <td>DEL08</td>\n",
       "    </tr>\n",
       "    <tr>\n",
       "      <th>200288</th>\n",
       "      <td>364903.0</td>\n",
       "      <td>2020-10-31</td>\n",
       "      <td>sábado</td>\n",
       "      <td>02:10:00</td>\n",
       "      <td>BA</td>\n",
       "      <td>116.0</td>\n",
       "      <td>3</td>\n",
       "      <td>VITORIA DA CONQUISTA</td>\n",
       "      <td>Animais na Pista</td>\n",
       "      <td>Atropelamento de Animal</td>\n",
       "      <td>...</td>\n",
       "      <td>1</td>\n",
       "      <td>0</td>\n",
       "      <td>0</td>\n",
       "      <td>1</td>\n",
       "      <td>1</td>\n",
       "      <td>-14,824848</td>\n",
       "      <td>-40,861311</td>\n",
       "      <td>SR-BA</td>\n",
       "      <td>UOP01</td>\n",
       "      <td>DEL08</td>\n",
       "    </tr>\n",
       "  </tbody>\n",
       "</table>\n",
       "<p>200289 rows × 30 columns</p>\n",
       "</div>"
      ],
      "text/plain": [
       "              id data_inversa     dia_semana   horario  uf     br     km  \\\n",
       "0        99973.0   2018-01-01  segunda-feira  00:20:00  RJ  116.0  303,5   \n",
       "1        99976.0   2018-01-01  segunda-feira  00:40:00  SC  282.0    0,4   \n",
       "2        99977.0   2018-01-01  segunda-feira  00:30:00  RJ  493.0      1   \n",
       "3        99981.0   2018-01-01  segunda-feira  01:15:00  RS  386.0    134   \n",
       "4        99982.0   2018-01-01  segunda-feira  00:20:00  RS  293.0  151,7   \n",
       "...          ...          ...            ...       ...  ..    ...    ...   \n",
       "200284  364615.0   2020-03-20    sexta-feira  09:00:00  RN  304.0  171,8   \n",
       "200285  364810.0   2020-09-12         sábado  23:50:00  BA  116.0   11,5   \n",
       "200286  364817.0   2020-10-30    sexta-feira  10:30:00  BA  116.0   14,3   \n",
       "200287  364835.0   2020-09-20        domingo  23:00:00  BA  116.0      8   \n",
       "200288  364903.0   2020-10-31         sábado  02:10:00  BA  116.0      3   \n",
       "\n",
       "                   municipio                      causa_acidente  \\\n",
       "0                    RESENDE                   Condutor Dormindo   \n",
       "1              FLORIANOPOLIS  Não guardar distância de segurança   \n",
       "2                   ITABORAI              Ultrapassagem Indevida   \n",
       "3                    SARANDI                  Ingestão de Álcool   \n",
       "4                   CANDIOTA         Falta de Atenção à Condução   \n",
       "...                      ...                                 ...   \n",
       "200284               ANGICOS         Falta de Atenção à Condução   \n",
       "200285  VITORIA DA CONQUISTA                  Ingestão de Álcool   \n",
       "200286  VITORIA DA CONQUISTA         Falta de Atenção à Condução   \n",
       "200287  VITORIA DA CONQUISTA             Velocidade Incompatível   \n",
       "200288  VITORIA DA CONQUISTA                    Animais na Pista   \n",
       "\n",
       "                       tipo_acidente  ... feridos_graves ilesos ignorados  \\\n",
       "0          Saída de leito carroçável  ...              4      1         0   \n",
       "1                   Colisão traseira  ...              2      1         0   \n",
       "2                    Colisão frontal  ...              0      3         1   \n",
       "3                Colisão transversal  ...              0      2         0   \n",
       "4          Saída de leito carroçável  ...              1      0         0   \n",
       "...                              ...  ...            ...    ...       ...   \n",
       "200284              Colisão traseira  ...              1      2         0   \n",
       "200285               Colisão lateral  ...              0      2         0   \n",
       "200286               Colisão lateral  ...              0      2         0   \n",
       "200287  Queda de ocupante de veículo  ...              0      0         0   \n",
       "200288       Atropelamento de Animal  ...              1      0         0   \n",
       "\n",
       "       feridos veiculos      latitude     longitude  regional  delegacia  \\\n",
       "0            4        1     -22,46937     -44,44705     SR-RJ     DEL5/7   \n",
       "1            2        2  -27,59971687  -48,57565694     SR-SC     DEL8/1   \n",
       "2            1        3    -22,763901    -42,927532     SR-RJ     DEL5/4   \n",
       "3            0        2    -27,953636    -52,916374     SR-RS    DEL9/14   \n",
       "4            1        1    -31,395214  -53,78391174     SR-RS    DEL9/11   \n",
       "...        ...      ...           ...           ...       ...        ...   \n",
       "200284       2        4   -5,68711053    -36,419458     SR-RN      UOP03   \n",
       "200285       1        2  -14,87308214  -40,87141514     SR-BA      UOP01   \n",
       "200286       2        2  -14,89597653  -40,86098671     SR-BA      UOP01   \n",
       "200287       1        1  -14,84732305  -40,88634968     SR-BA      UOP01   \n",
       "200288       1        1    -14,824848    -40,861311     SR-BA      UOP01   \n",
       "\n",
       "             uop  \n",
       "0       UOP03/RJ  \n",
       "1       UOP01/SC  \n",
       "2       UOP02/RJ  \n",
       "3       UOP01/RS  \n",
       "4       UOP03/RS  \n",
       "...          ...  \n",
       "200284     DEL01  \n",
       "200285     DEL08  \n",
       "200286     DEL08  \n",
       "200287     DEL08  \n",
       "200288     DEL08  \n",
       "\n",
       "[200289 rows x 30 columns]"
      ]
     },
     "execution_count": 4,
     "metadata": {},
     "output_type": "execute_result"
    }
   ],
   "source": [
    "dados_PRF = pd.concat([datatran2018, datatran2019, datatran2020], ignore_index = True)\n",
    "dados_PRF"
   ]
  },
  {
   "cell_type": "markdown",
   "metadata": {},
   "source": [
    "* Para facilitar a visualização e algumas das tarefas, os três dfs anteriores podem ser concatenados em um único Data Frame usando o método concat(). O uso do parâmetro ignore_index é respondável por evitar repetições dos índices vindos dos outros dfs ao gerar nodos índices."
   ]
  },
  {
   "cell_type": "markdown",
   "metadata": {},
   "source": [
    "### 2ª Tarefa)"
   ]
  },
  {
   "cell_type": "markdown",
   "metadata": {},
   "source": [
    "a)\n",
    "* Usando o método len() é possível verificar o tamanho, em linhas, de um Data Frame escolhido, o que equivale ao número de entradas. Pensando assim, se aplicar esse método aos dfs 'datatran2018', 'datatran2019' e 'datatran2020', que já possuem os dados de cada ano isolados, é obtido o número de acidentes por ano."
   ]
  },
  {
   "cell_type": "markdown",
   "metadata": {},
   "source": [
    "* Pode-se usar também a função print() para tornar a saída com o número de acidentes por ano mais organizada."
   ]
  },
  {
   "cell_type": "code",
   "execution_count": 5,
   "metadata": {},
   "outputs": [
    {
     "name": "stdout",
     "output_type": "stream",
     "text": [
      "O ano de 2018 possui 69295 acidentes\n",
      "O ano de 2019 possui 67446 acidentes\n",
      "O ano de 2020 possui 63548 acidentes\n"
     ]
    }
   ],
   "source": [
    "print(\"O ano de 2018 possui {} acidentes\".format(len(datatran2018)))\n",
    "print(\"O ano de 2019 possui {} acidentes\".format(len(datatran2019)))\n",
    "print(\"O ano de 2020 possui {} acidentes\".format(len(datatran2020)))"
   ]
  },
  {
   "cell_type": "markdown",
   "metadata": {},
   "source": [
    "b)\n",
    "* Usando o len() também é possível saber o número de colunas, ou variáveis, presentes em cada conjunto de dados. Para fazer isso é necessário passar o data frame com o método .columns, o que retorna um array com o nome de todas as colunas, com o parâmetro do len(), que verifica o tamanho do array."
   ]
  },
  {
   "cell_type": "markdown",
   "metadata": {},
   "source": [
    "* Usando a função print a saída pode sair mais organizada"
   ]
  },
  {
   "cell_type": "code",
   "execution_count": 6,
   "metadata": {},
   "outputs": [
    {
     "name": "stdout",
     "output_type": "stream",
     "text": [
      "O conjunto de dados de acidentes de 2018 registra 30 variáveis\n",
      "O conjunto de dados de acidentes de 2019 registra 30 variáveis\n",
      "O conjunto de dados de acidentes de 2020 registra 30 variáveis\n"
     ]
    }
   ],
   "source": [
    "print(\"O conjunto de dados de acidentes de 2018 registra {} variáveis\".format(len(datatran2018.columns)))\n",
    "print(\"O conjunto de dados de acidentes de 2019 registra {} variáveis\".format(len(datatran2019.columns)))\n",
    "print(\"O conjunto de dados de acidentes de 2020 registra {} variáveis\".format(len(datatran2020.columns)))"
   ]
  },
  {
   "cell_type": "markdown",
   "metadata": {},
   "source": [
    "c)\n",
    "* Para descobrir quais cidades possuem o maior número de acidentes é necessário agrupar os nomes das cidades que se repetem no Data Frame e contá-las. \n",
    "* Para realizar isso usa-se o método groupby(), para agrupar a coluna com os municípios, e em seguida o método size() para retornar o número de vezes que cada município apareceu na coluna desejada:"
   ]
  },
  {
   "cell_type": "code",
   "execution_count": 69,
   "metadata": {},
   "outputs": [],
   "source": [
    "freq_cidades = dados_PRF.groupby(['municipio']).size()"
   ]
  },
  {
   "cell_type": "markdown",
   "metadata": {},
   "source": [
    "* Com a quantidade de vezes que cada cidade aparece na tabela de acidentes, é necessário agora ordená-las para identificar os municípios com maior frequência. Para isso usá-se o método sort_values().\n",
    "    * O parâmetro ascending=False é usado no método sort_values() para que a organização seja feita em ordem decrescente."
   ]
  },
  {
   "cell_type": "code",
   "execution_count": 70,
   "metadata": {},
   "outputs": [],
   "source": [
    "freq_cidades = freq_cidades.sort_values(ascending=False)"
   ]
  },
  {
   "cell_type": "markdown",
   "metadata": {},
   "source": [
    "* Por fim, para gerar a tabela com as 5 cidades com mais acidentes usar-se o método head(), que retorna do topo da lista um número desejado de linhas:"
   ]
  },
  {
   "cell_type": "code",
   "execution_count": 71,
   "metadata": {},
   "outputs": [
    {
     "data": {
      "text/plain": [
       "municipio\n",
       "CURITIBA     3063\n",
       "BRASILIA     2997\n",
       "SAO JOSE     2322\n",
       "GUARULHOS    2111\n",
       "PALHOCA      1887\n",
       "dtype: int64"
      ]
     },
     "execution_count": 71,
     "metadata": {},
     "output_type": "execute_result"
    }
   ],
   "source": [
    "cidades_com_mais_acidentes = freq_cidades.head(5)\n",
    "cidades_com_mais_acidentes"
   ]
  },
  {
   "cell_type": "markdown",
   "metadata": {},
   "source": [
    "d)\n",
    "* Para saber o número de acidentes com feridos graves na Paraíba, é preciso separar em um novo Data Frame os dados pertencentes apenas ao estado da Paraíba, que ocorreram no ano de 2019 e tiveram o número de feridos graves maior que 0. \n",
    "* Para isso, usá-se o método loc para realizar a filtragem dos elementos da coluna 'uf', da coluna 'data_inversa' e da coluna 'feridos_graves' ao mesmo tempo:"
   ]
  },
  {
   "cell_type": "code",
   "execution_count": 72,
   "metadata": {},
   "outputs": [],
   "source": [
    "acidentes_graves_PB = dados_PRF.loc[(dados_PRF['uf'] == \"PB\") & (dados_PRF['data_inversa'].str.startswith('2019')) & (dados_PRF['feridos_graves']>0)]"
   ]
  },
  {
   "cell_type": "markdown",
   "metadata": {},
   "source": [
    "* Por fim, para obter o número de acidentes com feridos graves que aconteceram na Paraíba em 2019 é necessário apenas verificar o tamanho do Data Frame usando-se do método len():\n",
    "\n",
    "* O uso do print é feito para uma saída mais descritiva do resultado"
   ]
  },
  {
   "cell_type": "code",
   "execution_count": 73,
   "metadata": {},
   "outputs": [
    {
     "name": "stdout",
     "output_type": "stream",
     "text": [
      "No estado da Paraíba, no ano de 2019, ocorreram 414 acidentes com feridos graves.\n"
     ]
    }
   ],
   "source": [
    "print(\"No estado da Paraíba, no ano de 2019, ocorreram {} acidentes com feridos graves.\".format(len(acidentes_graves_PB)))"
   ]
  },
  {
   "cell_type": "markdown",
   "metadata": {},
   "source": [
    "### 3ª Tarefa)"
   ]
  },
  {
   "cell_type": "markdown",
   "metadata": {},
   "source": [
    "a) \n",
    "* Para fazer o ranking de acidentes por Estado é preciso agrupar e somar os acidentes que ocorreram em cada Estado durante os anos de 2018, 2019 e 2020. Para isso, usa-se o groupby() e o count() para gerar um Data Frame que una os acidentes ocorridos em cada Estado:"
   ]
  },
  {
   "cell_type": "code",
   "execution_count": 95,
   "metadata": {},
   "outputs": [],
   "source": [
    "freq_estados = dados_PRF.groupby(['uf']).count()"
   ]
  },
  {
   "cell_type": "markdown",
   "metadata": {},
   "source": [
    "* Uma vez agrupado os acidentes por Estado, é preciso ordená-los usando sort_values() e atribuir os dados a um novo Data Frame chamado de \"ranking\":\n",
    "    * Como parâmetros de sort_values() são usados a coluna 'id' como referência na ordenação e o \"ascending=False\" para gerar a tabela em ordem decrescente\n",
    "    "
   ]
  },
  {
   "cell_type": "code",
   "execution_count": 96,
   "metadata": {},
   "outputs": [],
   "source": [
    "ranking_acidentes = freq_estados.sort_values('id', ascending=False)"
   ]
  },
  {
   "cell_type": "markdown",
   "metadata": {},
   "source": [
    "* Para melhor visualização o Data Frame com o ranking é deixado apenas uma coluna que possui os valores de ocorrencia dos acidentes em cada Estado:\n",
    "    * Como a coluna 'id\" é usada como parâmetro é feito a alteração de seu nome para 'num_acidentes' para melhor visualização\n",
    "    * O inplace=True é usado também como parâmetro para manter a ateração no Data Frame"
   ]
  },
  {
   "cell_type": "code",
   "execution_count": 97,
   "metadata": {},
   "outputs": [],
   "source": [
    "ranking_acidentes.rename(columns={'id':'num_acidentes'}, inplace=True)\n",
    "ranking_acidentes = ranking_acidentes['num_acidentes']"
   ]
  },
  {
   "cell_type": "markdown",
   "metadata": {},
   "source": [
    "* Por fim, para exportar o novo Data Frame é usado o método \"to_csv\" para gerar um novo df chamado de 'ranking_acidentes_por_estado.csv'"
   ]
  },
  {
   "cell_type": "code",
   "execution_count": 98,
   "metadata": {},
   "outputs": [],
   "source": [
    "ranking_acidentes.to_csv('ranking_acidentes_por_estado.csv')"
   ]
  },
  {
   "cell_type": "markdown",
   "metadata": {},
   "source": [
    "* Resultado do novo Data Frame 'ranking_acidentes_por_estado':"
   ]
  },
  {
   "cell_type": "code",
   "execution_count": 99,
   "metadata": {},
   "outputs": [
    {
     "data": {
      "text/html": [
       "<div>\n",
       "<style scoped>\n",
       "    .dataframe tbody tr th:only-of-type {\n",
       "        vertical-align: middle;\n",
       "    }\n",
       "\n",
       "    .dataframe tbody tr th {\n",
       "        vertical-align: top;\n",
       "    }\n",
       "\n",
       "    .dataframe thead th {\n",
       "        text-align: right;\n",
       "    }\n",
       "</style>\n",
       "<table border=\"1\" class=\"dataframe\">\n",
       "  <thead>\n",
       "    <tr style=\"text-align: right;\">\n",
       "      <th></th>\n",
       "      <th>uf</th>\n",
       "      <th>num_acidentes</th>\n",
       "    </tr>\n",
       "  </thead>\n",
       "  <tbody>\n",
       "    <tr>\n",
       "      <th>0</th>\n",
       "      <td>MG</td>\n",
       "      <td>26160</td>\n",
       "    </tr>\n",
       "    <tr>\n",
       "      <th>1</th>\n",
       "      <td>SC</td>\n",
       "      <td>24145</td>\n",
       "    </tr>\n",
       "    <tr>\n",
       "      <th>2</th>\n",
       "      <td>PR</td>\n",
       "      <td>22850</td>\n",
       "    </tr>\n",
       "    <tr>\n",
       "      <th>3</th>\n",
       "      <td>RJ</td>\n",
       "      <td>13417</td>\n",
       "    </tr>\n",
       "    <tr>\n",
       "      <th>4</th>\n",
       "      <td>RS</td>\n",
       "      <td>13216</td>\n",
       "    </tr>\n",
       "    <tr>\n",
       "      <th>5</th>\n",
       "      <td>SP</td>\n",
       "      <td>12936</td>\n",
       "    </tr>\n",
       "    <tr>\n",
       "      <th>6</th>\n",
       "      <td>BA</td>\n",
       "      <td>10482</td>\n",
       "    </tr>\n",
       "    <tr>\n",
       "      <th>7</th>\n",
       "      <td>GO</td>\n",
       "      <td>10046</td>\n",
       "    </tr>\n",
       "    <tr>\n",
       "      <th>8</th>\n",
       "      <td>ES</td>\n",
       "      <td>8018</td>\n",
       "    </tr>\n",
       "    <tr>\n",
       "      <th>9</th>\n",
       "      <td>PE</td>\n",
       "      <td>8011</td>\n",
       "    </tr>\n",
       "    <tr>\n",
       "      <th>10</th>\n",
       "      <td>MT</td>\n",
       "      <td>6963</td>\n",
       "    </tr>\n",
       "    <tr>\n",
       "      <th>11</th>\n",
       "      <td>CE</td>\n",
       "      <td>4962</td>\n",
       "    </tr>\n",
       "    <tr>\n",
       "      <th>12</th>\n",
       "      <td>RO</td>\n",
       "      <td>4648</td>\n",
       "    </tr>\n",
       "    <tr>\n",
       "      <th>13</th>\n",
       "      <td>PB</td>\n",
       "      <td>4553</td>\n",
       "    </tr>\n",
       "    <tr>\n",
       "      <th>14</th>\n",
       "      <td>MS</td>\n",
       "      <td>4505</td>\n",
       "    </tr>\n",
       "    <tr>\n",
       "      <th>15</th>\n",
       "      <td>RN</td>\n",
       "      <td>4190</td>\n",
       "    </tr>\n",
       "    <tr>\n",
       "      <th>16</th>\n",
       "      <td>PI</td>\n",
       "      <td>3920</td>\n",
       "    </tr>\n",
       "    <tr>\n",
       "      <th>17</th>\n",
       "      <td>MA</td>\n",
       "      <td>3501</td>\n",
       "    </tr>\n",
       "    <tr>\n",
       "      <th>18</th>\n",
       "      <td>PA</td>\n",
       "      <td>3040</td>\n",
       "    </tr>\n",
       "    <tr>\n",
       "      <th>19</th>\n",
       "      <td>DF</td>\n",
       "      <td>2997</td>\n",
       "    </tr>\n",
       "    <tr>\n",
       "      <th>20</th>\n",
       "      <td>AL</td>\n",
       "      <td>1948</td>\n",
       "    </tr>\n",
       "    <tr>\n",
       "      <th>21</th>\n",
       "      <td>SE</td>\n",
       "      <td>1746</td>\n",
       "    </tr>\n",
       "    <tr>\n",
       "      <th>22</th>\n",
       "      <td>TO</td>\n",
       "      <td>1704</td>\n",
       "    </tr>\n",
       "    <tr>\n",
       "      <th>23</th>\n",
       "      <td>AC</td>\n",
       "      <td>789</td>\n",
       "    </tr>\n",
       "    <tr>\n",
       "      <th>24</th>\n",
       "      <td>RR</td>\n",
       "      <td>723</td>\n",
       "    </tr>\n",
       "    <tr>\n",
       "      <th>25</th>\n",
       "      <td>AP</td>\n",
       "      <td>456</td>\n",
       "    </tr>\n",
       "    <tr>\n",
       "      <th>26</th>\n",
       "      <td>AM</td>\n",
       "      <td>363</td>\n",
       "    </tr>\n",
       "  </tbody>\n",
       "</table>\n",
       "</div>"
      ],
      "text/plain": [
       "    uf  num_acidentes\n",
       "0   MG          26160\n",
       "1   SC          24145\n",
       "2   PR          22850\n",
       "3   RJ          13417\n",
       "4   RS          13216\n",
       "5   SP          12936\n",
       "6   BA          10482\n",
       "7   GO          10046\n",
       "8   ES           8018\n",
       "9   PE           8011\n",
       "10  MT           6963\n",
       "11  CE           4962\n",
       "12  RO           4648\n",
       "13  PB           4553\n",
       "14  MS           4505\n",
       "15  RN           4190\n",
       "16  PI           3920\n",
       "17  MA           3501\n",
       "18  PA           3040\n",
       "19  DF           2997\n",
       "20  AL           1948\n",
       "21  SE           1746\n",
       "22  TO           1704\n",
       "23  AC            789\n",
       "24  RR            723\n",
       "25  AP            456\n",
       "26  AM            363"
      ]
     },
     "execution_count": 99,
     "metadata": {},
     "output_type": "execute_result"
    }
   ],
   "source": [
    "pd.read_csv('ranking_acidentes_por_estado.csv')"
   ]
  },
  {
   "cell_type": "markdown",
   "metadata": {},
   "source": [
    "b)\n",
    "* Para fazer o Data Frame de acidentes por dia da semana é preciso agrupar e somar os acidentes que ocorreram em cada dia da semana durante os anos os três anos escolhidos. Para isso, usa-se o groupby() e o count() com a coluna 'dia_semana' para gerar um Data Frame que una os números de acidentes ocorridos:"
   ]
  },
  {
   "cell_type": "code",
   "execution_count": 115,
   "metadata": {},
   "outputs": [],
   "source": [
    "acidentes_dia_da_semana = dados_PRF.groupby(['dia_semana']).count()"
   ]
  },
  {
   "cell_type": "markdown",
   "metadata": {},
   "source": [
    "* Usando o método sort_value() pode-se ordenar o df 'acidentes_dia_da_semana' de acordo com os dias que mais ocorrem acidentes\n",
    "    * Para isso, é necessário usar o parâmetro  ascending=False para organizar em ordem decrescente"
   ]
  },
  {
   "cell_type": "code",
   "execution_count": 116,
   "metadata": {},
   "outputs": [],
   "source": [
    "acidentes_dia_da_semana = acidentes_dia_da_semana.sort_values('id', ascending=False)"
   ]
  },
  {
   "cell_type": "markdown",
   "metadata": {},
   "source": [
    "* Para melhorar a estrutura do Data Frame ele será deixado com apenas duas colunas, uma com os dias da semana e outra com o número de acidentes para cada dia:\n",
    "    * Por questão de visualização a coluna 'id', usada como parâmetro, terá seu nome alterado\n",
    "    * O inplace=True é usado também como parâmetro para manter a ateração no Data Frame"
   ]
  },
  {
   "cell_type": "code",
   "execution_count": 117,
   "metadata": {},
   "outputs": [],
   "source": [
    "acidentes_dia_da_semana.rename(columns={'id':'num_acidentes'}, inplace=True)\n",
    "acidentes_dia_da_semana = acidentes_dia_da_semana['num_acidentes']"
   ]
  },
  {
   "cell_type": "markdown",
   "metadata": {},
   "source": [
    "* Por fim, para exportar o novo Data Frame é usado o método \"to_csv\" para gerar um novo df chamado de 'acidentes_por_semana.csv'"
   ]
  },
  {
   "cell_type": "code",
   "execution_count": 118,
   "metadata": {},
   "outputs": [],
   "source": [
    "acidentes_dia_da_semana.to_csv('acidentes_por_semana.csv')"
   ]
  },
  {
   "cell_type": "markdown",
   "metadata": {},
   "source": [
    "* Resultado do novo Data Frame com os acidentes por dia da semana:"
   ]
  },
  {
   "cell_type": "code",
   "execution_count": 119,
   "metadata": {},
   "outputs": [
    {
     "data": {
      "text/html": [
       "<div>\n",
       "<style scoped>\n",
       "    .dataframe tbody tr th:only-of-type {\n",
       "        vertical-align: middle;\n",
       "    }\n",
       "\n",
       "    .dataframe tbody tr th {\n",
       "        vertical-align: top;\n",
       "    }\n",
       "\n",
       "    .dataframe thead th {\n",
       "        text-align: right;\n",
       "    }\n",
       "</style>\n",
       "<table border=\"1\" class=\"dataframe\">\n",
       "  <thead>\n",
       "    <tr style=\"text-align: right;\">\n",
       "      <th></th>\n",
       "      <th>dia_semana</th>\n",
       "      <th>num_acidentes</th>\n",
       "    </tr>\n",
       "  </thead>\n",
       "  <tbody>\n",
       "    <tr>\n",
       "      <th>0</th>\n",
       "      <td>sábado</td>\n",
       "      <td>33005</td>\n",
       "    </tr>\n",
       "    <tr>\n",
       "      <th>1</th>\n",
       "      <td>domingo</td>\n",
       "      <td>33001</td>\n",
       "    </tr>\n",
       "    <tr>\n",
       "      <th>2</th>\n",
       "      <td>sexta-feira</td>\n",
       "      <td>30777</td>\n",
       "    </tr>\n",
       "    <tr>\n",
       "      <th>3</th>\n",
       "      <td>segunda-feira</td>\n",
       "      <td>27075</td>\n",
       "    </tr>\n",
       "    <tr>\n",
       "      <th>4</th>\n",
       "      <td>quinta-feira</td>\n",
       "      <td>26229</td>\n",
       "    </tr>\n",
       "    <tr>\n",
       "      <th>5</th>\n",
       "      <td>quarta-feira</td>\n",
       "      <td>25353</td>\n",
       "    </tr>\n",
       "    <tr>\n",
       "      <th>6</th>\n",
       "      <td>terça-feira</td>\n",
       "      <td>24849</td>\n",
       "    </tr>\n",
       "  </tbody>\n",
       "</table>\n",
       "</div>"
      ],
      "text/plain": [
       "      dia_semana  num_acidentes\n",
       "0         sábado          33005\n",
       "1        domingo          33001\n",
       "2    sexta-feira          30777\n",
       "3  segunda-feira          27075\n",
       "4   quinta-feira          26229\n",
       "5   quarta-feira          25353\n",
       "6    terça-feira          24849"
      ]
     },
     "execution_count": 119,
     "metadata": {},
     "output_type": "execute_result"
    }
   ],
   "source": [
    "pd.read_csv('acidentes_por_semana.csv')"
   ]
  },
  {
   "cell_type": "markdown",
   "metadata": {},
   "source": [
    "### 4ª Tarefa)"
   ]
  },
  {
   "cell_type": "markdown",
   "metadata": {},
   "source": [
    "a) \n",
    "* Para identificar a causa mais frequente e as mais raras de acidentes dos últimos três anos é pode-se fazer a contagem de entradas de cada uma das causa presentes na coluna 'causa_acidente' usando os métodos groupy() e o size(). \n",
    "* O método groupy() será responsável por agrupar as causas dos acidentes, enquanto o size() irá retornar o número de vezes que os elementos da coluna agrupada se repetem"
   ]
  },
  {
   "cell_type": "code",
   "execution_count": 121,
   "metadata": {},
   "outputs": [],
   "source": [
    "causas_acidentes = dados_PRF.groupby(['causa_acidente']).size()"
   ]
  },
  {
   "cell_type": "markdown",
   "metadata": {},
   "source": [
    "* Uma vez que os dados estão agrupados é necessário ordená-los de acordo com número de ocorrências. Para fazer isso, usa-se o método sort_values que ordenará o Data Frame.\n",
    "    * O ascending=False é usado ordenar o df em ordem decrescente, enquanto o uso do inplace=True é para manter as alterações no df"
   ]
  },
  {
   "cell_type": "code",
   "execution_count": 122,
   "metadata": {},
   "outputs": [],
   "source": [
    "causas_acidentes.sort_values(ascending=False, inplace=True)"
   ]
  },
  {
   "cell_type": "markdown",
   "metadata": {},
   "source": [
    "* Para descobrir qual a causa mais frequente de acidentes dos últimos três anos pode-se usar o .head() junto ao Data Frame para que seja exibido os elementos do topo do Data Frame :"
   ]
  },
  {
   "cell_type": "code",
   "execution_count": 123,
   "metadata": {},
   "outputs": [
    {
     "data": {
      "text/plain": [
       "causa_acidente\n",
       "Falta de Atenção à Condução    73231\n",
       "dtype: int64"
      ]
     },
     "execution_count": 123,
     "metadata": {},
     "output_type": "execute_result"
    }
   ],
   "source": [
    "causas_acidentes.head(1)"
   ]
  },
  {
   "cell_type": "markdown",
   "metadata": {},
   "source": [
    "* Para descobrir qual a causa é a mais rara de  acidentes pode-se usar o .tail(), que exibirá os elementos finais do Data Frame:"
   ]
  },
  {
   "cell_type": "code",
   "execution_count": 124,
   "metadata": {},
   "outputs": [
    {
     "data": {
      "text/plain": [
       "causa_acidente\n",
       "Acumulo de areia ou detritos sobre o pavimento                    1\n",
       "Acostamento em desnível                                           1\n",
       "Acumulo de óleo sobre o pavimento                                 1\n",
       "Condutor usando celular                                           1\n",
       "Pista esburacada                                                  1\n",
       "Ausência de sinalização                                           1\n",
       "Pedestre cruzava a pista fora da faixa                            1\n",
       "Ingestão de álcool ou de substâncias psicoativas pelo pedestre    1\n",
       "Curva acentuada                                                   1\n",
       "Fumaça                                                            1\n",
       "Frear bruscamente                                                 1\n",
       "Estacionar ou parar em local proibido                             1\n",
       "dtype: int64"
      ]
     },
     "execution_count": 124,
     "metadata": {},
     "output_type": "execute_result"
    }
   ],
   "source": [
    "causas_acidentes.tail(12)"
   ]
  },
  {
   "cell_type": "markdown",
   "metadata": {},
   "source": [
    "* Percebe-se que, diferente do caso anterior com a causa mais frequente de acidentes, há várias causas diferentes que possuem apenas 1 ocorrência durante os três anos avaliados. Dessa forma, as doze causas estão juntas como as causas mais raras de acidentes."
   ]
  },
  {
   "cell_type": "markdown",
   "metadata": {},
   "source": [
    "b)\n",
    "* Para calcular a proporção de pessoas ilesas e de feridos graves por mês é necessário primeiro que o Data frame que possui as informações dos três anos avaliados tenha seus dados organizados e agupados por tempo, em mês.\n",
    "* Primeiramente, para fazer isso é necessário criar uma nova coluna que esteja no formato datetime usando a variável 'data_inversa'"
   ]
  },
  {
   "cell_type": "code",
   "execution_count": 125,
   "metadata": {},
   "outputs": [],
   "source": [
    "dados_PRF[\"datas\"] = pd.to_datetime(dados_PRF['data_inversa'])"
   ]
  },
  {
   "cell_type": "markdown",
   "metadata": {},
   "source": [
    "* Uma vez criado uma coluna no formato datetime podemos agrupar e somar os dados presentes no Data Frame de acordo com os meses em que ocorreram e, em seguida, filtrar apenas as principais informações para a análise\n",
    "    * Para realizar o agrupamento é usado o método groupby() junto ao sum(), responsável por realizar a soma dos dados.\n",
    "    * Além disso, os dados que precisam ser filtrados são as colunas 'pessoas','feridos_graves' e 'ilesos'."
   ]
  },
  {
   "cell_type": "code",
   "execution_count": 126,
   "metadata": {},
   "outputs": [],
   "source": [
    "dados_mensais = dados_PRF.groupby(pd.Grouper(key='datas', freq='M')).sum()\n",
    "dados_mensais = dados_mensais[['pessoas','feridos_graves','ilesos']]"
   ]
  },
  {
   "cell_type": "markdown",
   "metadata": {},
   "source": [
    "* Para realizar o cálculo da proporção de ilesos no mês é preciso dividir o número de ilesos pelo número total de pessoas envolvidas no acidente e, em seguida, atribuir para uma nova coluna no Data Frame principal. Também é possível multiplicar o resultado do cálculo por 100 para que a solução retorne em porcentagem:"
   ]
  },
  {
   "cell_type": "code",
   "execution_count": 127,
   "metadata": {},
   "outputs": [],
   "source": [
    "dados_mensais['proporção_ilesos(%)'] = (dados_mensais['ilesos'] / dados_mensais['pessoas']) * 100"
   ]
  },
  {
   "cell_type": "markdown",
   "metadata": {},
   "source": [
    "* Para realizar o cálculo da proporção de feridos graves no mês é preciso dividir o número de feridos graves pelo número total de pessoas envolvidas no acidente e, em seguida, atribuir para uma nova coluna no Data Frame principal. É possível multiplicar o resultado do cálculo por 100 para que a solução retorne em porcentagem:"
   ]
  },
  {
   "cell_type": "code",
   "execution_count": 128,
   "metadata": {},
   "outputs": [],
   "source": [
    "dados_mensais['proporção_feridos_graves(%)'] = (dados_mensais['feridos_graves'] / dados_mensais['pessoas']) * 100"
   ]
  },
  {
   "cell_type": "markdown",
   "metadata": {},
   "source": [
    "* Como os cálculos das proporções foram atribídos ao Data Frame 'dados_mensais' é possível imprimir todos os dados juntos:"
   ]
  },
  {
   "cell_type": "code",
   "execution_count": 129,
   "metadata": {},
   "outputs": [
    {
     "data": {
      "text/html": [
       "<div>\n",
       "<style scoped>\n",
       "    .dataframe tbody tr th:only-of-type {\n",
       "        vertical-align: middle;\n",
       "    }\n",
       "\n",
       "    .dataframe tbody tr th {\n",
       "        vertical-align: top;\n",
       "    }\n",
       "\n",
       "    .dataframe thead th {\n",
       "        text-align: right;\n",
       "    }\n",
       "</style>\n",
       "<table border=\"1\" class=\"dataframe\">\n",
       "  <thead>\n",
       "    <tr style=\"text-align: right;\">\n",
       "      <th></th>\n",
       "      <th>pessoas</th>\n",
       "      <th>feridos_graves</th>\n",
       "      <th>ilesos</th>\n",
       "      <th>proporção_ilesos(%)</th>\n",
       "      <th>proporção_feridos_graves(%)</th>\n",
       "    </tr>\n",
       "    <tr>\n",
       "      <th>datas</th>\n",
       "      <th></th>\n",
       "      <th></th>\n",
       "      <th></th>\n",
       "      <th></th>\n",
       "      <th></th>\n",
       "    </tr>\n",
       "  </thead>\n",
       "  <tbody>\n",
       "    <tr>\n",
       "      <th>2018-01-31</th>\n",
       "      <td>16665</td>\n",
       "      <td>1510</td>\n",
       "      <td>8554</td>\n",
       "      <td>51.329133</td>\n",
       "      <td>9.060906</td>\n",
       "    </tr>\n",
       "    <tr>\n",
       "      <th>2018-02-28</th>\n",
       "      <td>14047</td>\n",
       "      <td>1295</td>\n",
       "      <td>6999</td>\n",
       "      <td>49.825586</td>\n",
       "      <td>9.219050</td>\n",
       "    </tr>\n",
       "    <tr>\n",
       "      <th>2018-03-31</th>\n",
       "      <td>15110</td>\n",
       "      <td>1539</td>\n",
       "      <td>7276</td>\n",
       "      <td>48.153541</td>\n",
       "      <td>10.185308</td>\n",
       "    </tr>\n",
       "    <tr>\n",
       "      <th>2018-04-30</th>\n",
       "      <td>13230</td>\n",
       "      <td>1492</td>\n",
       "      <td>5691</td>\n",
       "      <td>43.015873</td>\n",
       "      <td>11.277400</td>\n",
       "    </tr>\n",
       "    <tr>\n",
       "      <th>2018-05-31</th>\n",
       "      <td>11489</td>\n",
       "      <td>1315</td>\n",
       "      <td>4851</td>\n",
       "      <td>42.222996</td>\n",
       "      <td>11.445731</td>\n",
       "    </tr>\n",
       "    <tr>\n",
       "      <th>2018-06-30</th>\n",
       "      <td>12870</td>\n",
       "      <td>1498</td>\n",
       "      <td>5471</td>\n",
       "      <td>42.509713</td>\n",
       "      <td>11.639472</td>\n",
       "    </tr>\n",
       "    <tr>\n",
       "      <th>2018-07-31</th>\n",
       "      <td>13618</td>\n",
       "      <td>1502</td>\n",
       "      <td>5958</td>\n",
       "      <td>43.750918</td>\n",
       "      <td>11.029520</td>\n",
       "    </tr>\n",
       "    <tr>\n",
       "      <th>2018-08-31</th>\n",
       "      <td>12776</td>\n",
       "      <td>1359</td>\n",
       "      <td>5456</td>\n",
       "      <td>42.705072</td>\n",
       "      <td>10.637132</td>\n",
       "    </tr>\n",
       "    <tr>\n",
       "      <th>2018-09-30</th>\n",
       "      <td>13027</td>\n",
       "      <td>1504</td>\n",
       "      <td>5480</td>\n",
       "      <td>42.066477</td>\n",
       "      <td>11.545252</td>\n",
       "    </tr>\n",
       "    <tr>\n",
       "      <th>2018-10-31</th>\n",
       "      <td>12890</td>\n",
       "      <td>1452</td>\n",
       "      <td>5545</td>\n",
       "      <td>43.017843</td>\n",
       "      <td>11.264546</td>\n",
       "    </tr>\n",
       "    <tr>\n",
       "      <th>2018-11-30</th>\n",
       "      <td>13197</td>\n",
       "      <td>1523</td>\n",
       "      <td>5719</td>\n",
       "      <td>43.335607</td>\n",
       "      <td>11.540502</td>\n",
       "    </tr>\n",
       "    <tr>\n",
       "      <th>2018-12-31</th>\n",
       "      <td>15883</td>\n",
       "      <td>1717</td>\n",
       "      <td>6876</td>\n",
       "      <td>43.291570</td>\n",
       "      <td>10.810300</td>\n",
       "    </tr>\n",
       "    <tr>\n",
       "      <th>2019-01-31</th>\n",
       "      <td>13111</td>\n",
       "      <td>1485</td>\n",
       "      <td>5562</td>\n",
       "      <td>42.422393</td>\n",
       "      <td>11.326367</td>\n",
       "    </tr>\n",
       "    <tr>\n",
       "      <th>2019-02-28</th>\n",
       "      <td>11799</td>\n",
       "      <td>1260</td>\n",
       "      <td>5004</td>\n",
       "      <td>42.410374</td>\n",
       "      <td>10.678871</td>\n",
       "    </tr>\n",
       "    <tr>\n",
       "      <th>2019-03-31</th>\n",
       "      <td>13569</td>\n",
       "      <td>1555</td>\n",
       "      <td>5878</td>\n",
       "      <td>43.319331</td>\n",
       "      <td>11.459945</td>\n",
       "    </tr>\n",
       "    <tr>\n",
       "      <th>2019-04-30</th>\n",
       "      <td>12815</td>\n",
       "      <td>1358</td>\n",
       "      <td>5327</td>\n",
       "      <td>41.568474</td>\n",
       "      <td>10.596957</td>\n",
       "    </tr>\n",
       "    <tr>\n",
       "      <th>2019-05-31</th>\n",
       "      <td>12795</td>\n",
       "      <td>1545</td>\n",
       "      <td>5312</td>\n",
       "      <td>41.516217</td>\n",
       "      <td>12.075029</td>\n",
       "    </tr>\n",
       "    <tr>\n",
       "      <th>2019-06-30</th>\n",
       "      <td>13411</td>\n",
       "      <td>1631</td>\n",
       "      <td>5683</td>\n",
       "      <td>42.375662</td>\n",
       "      <td>12.161658</td>\n",
       "    </tr>\n",
       "    <tr>\n",
       "      <th>2019-07-31</th>\n",
       "      <td>14331</td>\n",
       "      <td>1672</td>\n",
       "      <td>6260</td>\n",
       "      <td>43.681530</td>\n",
       "      <td>11.667016</td>\n",
       "    </tr>\n",
       "    <tr>\n",
       "      <th>2019-08-31</th>\n",
       "      <td>13421</td>\n",
       "      <td>1566</td>\n",
       "      <td>5544</td>\n",
       "      <td>41.308397</td>\n",
       "      <td>11.668281</td>\n",
       "    </tr>\n",
       "    <tr>\n",
       "      <th>2019-09-30</th>\n",
       "      <td>13682</td>\n",
       "      <td>1514</td>\n",
       "      <td>5761</td>\n",
       "      <td>42.106417</td>\n",
       "      <td>11.065634</td>\n",
       "    </tr>\n",
       "    <tr>\n",
       "      <th>2019-10-31</th>\n",
       "      <td>13931</td>\n",
       "      <td>1669</td>\n",
       "      <td>5836</td>\n",
       "      <td>41.892183</td>\n",
       "      <td>11.980475</td>\n",
       "    </tr>\n",
       "    <tr>\n",
       "      <th>2019-11-30</th>\n",
       "      <td>13823</td>\n",
       "      <td>1535</td>\n",
       "      <td>5886</td>\n",
       "      <td>42.581205</td>\n",
       "      <td>11.104681</td>\n",
       "    </tr>\n",
       "    <tr>\n",
       "      <th>2019-12-31</th>\n",
       "      <td>15585</td>\n",
       "      <td>1783</td>\n",
       "      <td>6581</td>\n",
       "      <td>42.226500</td>\n",
       "      <td>11.440488</td>\n",
       "    </tr>\n",
       "    <tr>\n",
       "      <th>2020-01-31</th>\n",
       "      <td>14070</td>\n",
       "      <td>1512</td>\n",
       "      <td>5847</td>\n",
       "      <td>41.556503</td>\n",
       "      <td>10.746269</td>\n",
       "    </tr>\n",
       "    <tr>\n",
       "      <th>2020-02-29</th>\n",
       "      <td>13183</td>\n",
       "      <td>1468</td>\n",
       "      <td>5537</td>\n",
       "      <td>42.001062</td>\n",
       "      <td>11.135553</td>\n",
       "    </tr>\n",
       "    <tr>\n",
       "      <th>2020-03-31</th>\n",
       "      <td>10775</td>\n",
       "      <td>1213</td>\n",
       "      <td>4321</td>\n",
       "      <td>40.102088</td>\n",
       "      <td>11.257541</td>\n",
       "    </tr>\n",
       "    <tr>\n",
       "      <th>2020-04-30</th>\n",
       "      <td>8385</td>\n",
       "      <td>989</td>\n",
       "      <td>3155</td>\n",
       "      <td>37.626714</td>\n",
       "      <td>11.794872</td>\n",
       "    </tr>\n",
       "    <tr>\n",
       "      <th>2020-05-31</th>\n",
       "      <td>10074</td>\n",
       "      <td>1168</td>\n",
       "      <td>4043</td>\n",
       "      <td>40.133016</td>\n",
       "      <td>11.594203</td>\n",
       "    </tr>\n",
       "    <tr>\n",
       "      <th>2020-06-30</th>\n",
       "      <td>10454</td>\n",
       "      <td>1212</td>\n",
       "      <td>4425</td>\n",
       "      <td>42.328295</td>\n",
       "      <td>11.593648</td>\n",
       "    </tr>\n",
       "    <tr>\n",
       "      <th>2020-07-31</th>\n",
       "      <td>11628</td>\n",
       "      <td>1263</td>\n",
       "      <td>4934</td>\n",
       "      <td>42.432061</td>\n",
       "      <td>10.861713</td>\n",
       "    </tr>\n",
       "    <tr>\n",
       "      <th>2020-08-31</th>\n",
       "      <td>12881</td>\n",
       "      <td>1535</td>\n",
       "      <td>5454</td>\n",
       "      <td>42.341433</td>\n",
       "      <td>11.916777</td>\n",
       "    </tr>\n",
       "    <tr>\n",
       "      <th>2020-09-30</th>\n",
       "      <td>13187</td>\n",
       "      <td>1548</td>\n",
       "      <td>5486</td>\n",
       "      <td>41.601577</td>\n",
       "      <td>11.738834</td>\n",
       "    </tr>\n",
       "    <tr>\n",
       "      <th>2020-10-31</th>\n",
       "      <td>14501</td>\n",
       "      <td>1736</td>\n",
       "      <td>5960</td>\n",
       "      <td>41.100614</td>\n",
       "      <td>11.971588</td>\n",
       "    </tr>\n",
       "    <tr>\n",
       "      <th>2020-11-30</th>\n",
       "      <td>13490</td>\n",
       "      <td>1624</td>\n",
       "      <td>5491</td>\n",
       "      <td>40.704225</td>\n",
       "      <td>12.038547</td>\n",
       "    </tr>\n",
       "    <tr>\n",
       "      <th>2020-12-31</th>\n",
       "      <td>15050</td>\n",
       "      <td>1836</td>\n",
       "      <td>6205</td>\n",
       "      <td>41.229236</td>\n",
       "      <td>12.199336</td>\n",
       "    </tr>\n",
       "  </tbody>\n",
       "</table>\n",
       "</div>"
      ],
      "text/plain": [
       "            pessoas  feridos_graves  ilesos  proporção_ilesos(%)  \\\n",
       "datas                                                              \n",
       "2018-01-31    16665            1510    8554            51.329133   \n",
       "2018-02-28    14047            1295    6999            49.825586   \n",
       "2018-03-31    15110            1539    7276            48.153541   \n",
       "2018-04-30    13230            1492    5691            43.015873   \n",
       "2018-05-31    11489            1315    4851            42.222996   \n",
       "2018-06-30    12870            1498    5471            42.509713   \n",
       "2018-07-31    13618            1502    5958            43.750918   \n",
       "2018-08-31    12776            1359    5456            42.705072   \n",
       "2018-09-30    13027            1504    5480            42.066477   \n",
       "2018-10-31    12890            1452    5545            43.017843   \n",
       "2018-11-30    13197            1523    5719            43.335607   \n",
       "2018-12-31    15883            1717    6876            43.291570   \n",
       "2019-01-31    13111            1485    5562            42.422393   \n",
       "2019-02-28    11799            1260    5004            42.410374   \n",
       "2019-03-31    13569            1555    5878            43.319331   \n",
       "2019-04-30    12815            1358    5327            41.568474   \n",
       "2019-05-31    12795            1545    5312            41.516217   \n",
       "2019-06-30    13411            1631    5683            42.375662   \n",
       "2019-07-31    14331            1672    6260            43.681530   \n",
       "2019-08-31    13421            1566    5544            41.308397   \n",
       "2019-09-30    13682            1514    5761            42.106417   \n",
       "2019-10-31    13931            1669    5836            41.892183   \n",
       "2019-11-30    13823            1535    5886            42.581205   \n",
       "2019-12-31    15585            1783    6581            42.226500   \n",
       "2020-01-31    14070            1512    5847            41.556503   \n",
       "2020-02-29    13183            1468    5537            42.001062   \n",
       "2020-03-31    10775            1213    4321            40.102088   \n",
       "2020-04-30     8385             989    3155            37.626714   \n",
       "2020-05-31    10074            1168    4043            40.133016   \n",
       "2020-06-30    10454            1212    4425            42.328295   \n",
       "2020-07-31    11628            1263    4934            42.432061   \n",
       "2020-08-31    12881            1535    5454            42.341433   \n",
       "2020-09-30    13187            1548    5486            41.601577   \n",
       "2020-10-31    14501            1736    5960            41.100614   \n",
       "2020-11-30    13490            1624    5491            40.704225   \n",
       "2020-12-31    15050            1836    6205            41.229236   \n",
       "\n",
       "            proporção_feridos_graves(%)  \n",
       "datas                                    \n",
       "2018-01-31                     9.060906  \n",
       "2018-02-28                     9.219050  \n",
       "2018-03-31                    10.185308  \n",
       "2018-04-30                    11.277400  \n",
       "2018-05-31                    11.445731  \n",
       "2018-06-30                    11.639472  \n",
       "2018-07-31                    11.029520  \n",
       "2018-08-31                    10.637132  \n",
       "2018-09-30                    11.545252  \n",
       "2018-10-31                    11.264546  \n",
       "2018-11-30                    11.540502  \n",
       "2018-12-31                    10.810300  \n",
       "2019-01-31                    11.326367  \n",
       "2019-02-28                    10.678871  \n",
       "2019-03-31                    11.459945  \n",
       "2019-04-30                    10.596957  \n",
       "2019-05-31                    12.075029  \n",
       "2019-06-30                    12.161658  \n",
       "2019-07-31                    11.667016  \n",
       "2019-08-31                    11.668281  \n",
       "2019-09-30                    11.065634  \n",
       "2019-10-31                    11.980475  \n",
       "2019-11-30                    11.104681  \n",
       "2019-12-31                    11.440488  \n",
       "2020-01-31                    10.746269  \n",
       "2020-02-29                    11.135553  \n",
       "2020-03-31                    11.257541  \n",
       "2020-04-30                    11.794872  \n",
       "2020-05-31                    11.594203  \n",
       "2020-06-30                    11.593648  \n",
       "2020-07-31                    10.861713  \n",
       "2020-08-31                    11.916777  \n",
       "2020-09-30                    11.738834  \n",
       "2020-10-31                    11.971588  \n",
       "2020-11-30                    12.038547  \n",
       "2020-12-31                    12.199336  "
      ]
     },
     "execution_count": 129,
     "metadata": {},
     "output_type": "execute_result"
    }
   ],
   "source": [
    "dados_mensais"
   ]
  },
  {
   "cell_type": "markdown",
   "metadata": {},
   "source": [
    "c)\n",
    "* Para identificar se a pandemia de COVID-19 influenciou na incidência de acidentes é preciso analisar o período anterior e o posterior ao início da pandemia. Nessa análise será usado o número de acidentes que ocorreram por mês e por ano em todo o Brasil:"
   ]
  },
  {
   "cell_type": "markdown",
   "metadata": {},
   "source": [
    "* Primeiramente, usando da coluna em formato datetime que já foi criada no Data Frame 'dados_PRF', é realizado o agrupamento por mês e por ano dos dados usando o método groupby(). O uso do size() é necessário para contar a quantidade de entradas que cada mês ou ano possui:"
   ]
  },
  {
   "cell_type": "code",
   "execution_count": 130,
   "metadata": {},
   "outputs": [],
   "source": [
    "dados_m = dados_PRF.groupby(pd.Grouper(key='datas', freq='M')).size()\n",
    "dados_y = dados_PRF.groupby(pd.Grouper(key='datas', freq='Y')).size()"
   ]
  },
  {
   "cell_type": "markdown",
   "metadata": {},
   "source": [
    "* Número de acidentes agrupados por mês:"
   ]
  },
  {
   "cell_type": "code",
   "execution_count": 131,
   "metadata": {},
   "outputs": [
    {
     "data": {
      "text/plain": [
       "datas\n",
       "2018-01-31    6940\n",
       "2018-02-28    6192\n",
       "2018-03-31    6684\n",
       "2018-04-30    5530\n",
       "2018-05-31    4818\n",
       "2018-06-30    5566\n",
       "2018-07-31    5431\n",
       "2018-08-31    5442\n",
       "2018-09-30    5448\n",
       "2018-10-31    5430\n",
       "2018-11-30    5460\n",
       "2018-12-31    6354\n",
       "2019-01-31    5120\n",
       "2019-02-28    4963\n",
       "2019-03-31    5593\n",
       "2019-04-30    5436\n",
       "2019-05-31    5473\n",
       "2019-06-30    5578\n",
       "2019-07-31    5794\n",
       "2019-08-31    5703\n",
       "2019-09-30    5868\n",
       "2019-10-31    5881\n",
       "2019-11-30    5802\n",
       "2019-12-31    6235\n",
       "2020-01-31    5497\n",
       "2020-02-29    5467\n",
       "2020-03-31    4790\n",
       "2020-04-30    3883\n",
       "2020-05-31    4657\n",
       "2020-06-30    4734\n",
       "2020-07-31    5127\n",
       "2020-08-31    5643\n",
       "2020-09-30    5689\n",
       "2020-10-31    6120\n",
       "2020-11-30    5745\n",
       "2020-12-31    6196\n",
       "Freq: M, dtype: int64"
      ]
     },
     "execution_count": 131,
     "metadata": {},
     "output_type": "execute_result"
    }
   ],
   "source": [
    "dados_m"
   ]
  },
  {
   "cell_type": "markdown",
   "metadata": {},
   "source": [
    "* Número de acidentes agrupados por ano:"
   ]
  },
  {
   "cell_type": "code",
   "execution_count": 132,
   "metadata": {},
   "outputs": [
    {
     "data": {
      "text/plain": [
       "datas\n",
       "2018-12-31    69295\n",
       "2019-12-31    67446\n",
       "2020-12-31    63548\n",
       "Freq: A-DEC, dtype: int64"
      ]
     },
     "execution_count": 132,
     "metadata": {},
     "output_type": "execute_result"
    }
   ],
   "source": [
    "dados_y"
   ]
  },
  {
   "cell_type": "markdown",
   "metadata": {},
   "source": [
    "* Analisando os números de acidentes por mês é difícil identificar o quanto a pandemia teve influência. Entretanto, analisando os dados agrupados por ano é perceptível a redução no número de acidentes a cada ano, em especial no ano de 2020, ano de início da pandemia."
   ]
  },
  {
   "cell_type": "markdown",
   "metadata": {},
   "source": [
    "* Ainda assim, para a melhorar a análise dos dados obtidos, os data Frames podem ser usados para gerar gráficos de linhas usando o método plot():"
   ]
  },
  {
   "cell_type": "code",
   "execution_count": 133,
   "metadata": {},
   "outputs": [
    {
     "data": {
      "text/plain": [
       "<AxesSubplot:xlabel='datas'>"
      ]
     },
     "execution_count": 133,
     "metadata": {},
     "output_type": "execute_result"
    },
    {
     "data": {
      "image/png": "[encoded data removed]",
      "text/plain": [
       "<Figure size 720x720 with 1 Axes>"
      ]
     },
     "metadata": {
      "needs_background": "light"
     },
     "output_type": "display_data"
    }
   ],
   "source": [
    "dados_y.plot(kind='line', figsize=(10,10))"
   ]
  },
  {
   "cell_type": "markdown",
   "metadata": {},
   "source": [
    "* Como já identificado, a cada ano o número de acidentes foram reduzindo, possuindo uma queda maior no ano de 2020"
   ]
  },
  {
   "cell_type": "code",
   "execution_count": 134,
   "metadata": {},
   "outputs": [
    {
     "data": {
      "text/plain": [
       "<AxesSubplot:xlabel='datas'>"
      ]
     },
     "execution_count": 134,
     "metadata": {},
     "output_type": "execute_result"
    },
    {
     "data": {
      "image/png": "[encoded data removed]",
      "text/plain": [
       "<Figure size 720x720 with 1 Axes>"
      ]
     },
     "metadata": {
      "needs_background": "light"
     },
     "output_type": "display_data"
    }
   ],
   "source": [
    "dados_m.plot(kind='line', figsize=(10,10))"
   ]
  },
  {
   "cell_type": "markdown",
   "metadata": {},
   "source": [
    "* Entretanto, através do gráfico dos meses é notado mais facilmente a influência da pandemia no número de acidentes:\n",
    "    * A quantidade de acidentes que ocorreram nos anos de 2018 e 2019 possuem valores semelhantes, apenas com uma pequena queda. Mas ao entrar no ano de 2020 ocorre uma grande descida no gráfico. \n",
    "Também é possível perceber que o número de acidentes por mês em 2020 após abril aumenta devagar, somente se igualando ao ano anterior nos meses de setembro à dezembro, na época de festas e período onde regras de distânciamento social foram reduzidas."
   ]
  },
  {
   "cell_type": "code",
   "execution_count": null,
   "metadata": {},
   "outputs": [],
   "source": []
  }
 ],
 "metadata": {
  "interpreter": {
   "hash": "bd3bb1f87169cb58c471d07b42a81f234c7d56028bf0ba0ec349fcff4f2c061b"
  },
  "kernelspec": {
   "display_name": "Python 3",
   "language": "python",
   "name": "python3"
  },
  "language_info": {
   "codemirror_mode": {
    "name": "ipython",
    "version": 3
   },
   "file_extension": ".py",
   "mimetype": "text/x-python",
   "name": "python",
   "nbconvert_exporter": "python",
   "pygments_lexer": "ipython3",
   "version": "3.8.8"
  }
 },
 "nbformat": 4,
 "nbformat_minor": 2
}
